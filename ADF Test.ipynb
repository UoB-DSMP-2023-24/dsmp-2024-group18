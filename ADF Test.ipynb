{
 "cells": [
  {
   "cell_type": "markdown",
   "metadata": {},
   "source": [
    "Initialise  "
   ]
  },
  {
   "cell_type": "code",
   "execution_count": null,
   "metadata": {},
   "outputs": [],
   "source": [
    "import numpy as np\n",
    "import pandas as pd"
   ]
  },
  {
   "cell_type": "markdown",
   "metadata": {},
   "source": []
  },
  {
   "cell_type": "code",
   "execution_count": null,
   "metadata": {},
   "outputs": [],
   "source": [
    "data = pd.read_csv()"
   ]
  },
  {
   "cell_type": "markdown",
   "metadata": {},
   "source": []
  },
  {
   "cell_type": "code",
   "execution_count": null,
   "metadata": {},
   "outputs": [],
   "source": [
    "# Using a smaller subset of the 'Mid-Price' data for the ADF test\n",
    "mid_price_subset = data.dropna()[:1000]  # Dropping NA values and limiting the data to manage size\n",
    "\n",
    "# Re-performing the Augmented Dickey-Fuller test on the smaller subset\n",
    "adf_test_result_subset = adfuller(mid_price_subset)\n",
    "\n",
    "# Extracting the test statistic and p-value for the subset\n",
    "test_statistic_subset = adf_test_result_subset[0]\n",
    "p_value_subset = adf_test_result_subset[1]\n",
    "\n",
    "test_statistic_subset, p_value_subset"
   ]
  }
 ],
 "metadata": {
  "kernelspec": {
   "display_name": "Python 3",
   "language": "python",
   "name": "python3"
  },
  "language_info": {
   "codemirror_mode": {
    "name": "ipython",
    "version": 3
   },
   "file_extension": ".py",
   "mimetype": "text/x-python",
   "name": "python",
   "nbconvert_exporter": "python",
   "pygments_lexer": "ipython3",
   "version": "0.0.0"
  }
 },
 "nbformat": 4,
 "nbformat_minor": 2
}
