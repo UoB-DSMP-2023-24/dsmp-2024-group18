{
 "cells": [
  {
   "cell_type": "code",
   "execution_count": 1,
   "metadata": {},
   "outputs": [],
   "source": [
    "import os\n",
    "import datetime\n",
    "\n",
    "import IPython\n",
    "import IPython.display\n",
    "import matplotlib as mpl\n",
    "import matplotlib.pyplot as plt\n",
    "import numpy as np\n",
    "import pandas as pd\n",
    "import seaborn as sns\n",
    "import tensorflow as tf\n",
    "\n",
    "mpl.rcParams['figure.figsize'] = (8, 6)\n",
    "mpl.rcParams['axes.grid'] = False"
   ]
  },
  {
   "cell_type": "markdown",
   "metadata": {},
   "source": [
    "January data"
   ]
  },
  {
   "cell_type": "code",
   "execution_count": 2,
   "metadata": {},
   "outputs": [
    {
     "data": {
      "text/html": [
       "<div>\n",
       "<style scoped>\n",
       "    .dataframe tbody tr th:only-of-type {\n",
       "        vertical-align: middle;\n",
       "    }\n",
       "\n",
       "    .dataframe tbody tr th {\n",
       "        vertical-align: top;\n",
       "    }\n",
       "\n",
       "    .dataframe thead th {\n",
       "        text-align: right;\n",
       "    }\n",
       "</style>\n",
       "<table border=\"1\" class=\"dataframe\">\n",
       "  <thead>\n",
       "    <tr style=\"text-align: right;\">\n",
       "      <th></th>\n",
       "      <th>Day</th>\n",
       "      <th>Time</th>\n",
       "      <th>Bid1</th>\n",
       "      <th>Bid2</th>\n",
       "      <th>Ask1</th>\n",
       "      <th>Ask2</th>\n",
       "      <th>Mid_Price</th>\n",
       "      <th>Total_volume</th>\n",
       "      <th>Bid_ask_spread</th>\n",
       "      <th>Order_imbalance</th>\n",
       "    </tr>\n",
       "  </thead>\n",
       "  <tbody>\n",
       "    <tr>\n",
       "      <th>0</th>\n",
       "      <td>2025/1/2</td>\n",
       "      <td>7:30:00</td>\n",
       "      <td>[1.0, 6]</td>\n",
       "      <td>[0, 0]</td>\n",
       "      <td>[0, 0]</td>\n",
       "      <td>[0, 0]</td>\n",
       "      <td>0.50</td>\n",
       "      <td>6</td>\n",
       "      <td>-1.00</td>\n",
       "      <td>1.00</td>\n",
       "    </tr>\n",
       "    <tr>\n",
       "      <th>1</th>\n",
       "      <td>2025/1/2</td>\n",
       "      <td>7:30:01</td>\n",
       "      <td>[27.0, 20]</td>\n",
       "      <td>[1.0, 12]</td>\n",
       "      <td>[798.4, 5]</td>\n",
       "      <td>[0, 0]</td>\n",
       "      <td>412.70</td>\n",
       "      <td>37</td>\n",
       "      <td>771.40</td>\n",
       "      <td>0.73</td>\n",
       "    </tr>\n",
       "    <tr>\n",
       "      <th>2</th>\n",
       "      <td>2025/1/2</td>\n",
       "      <td>7:30:02</td>\n",
       "      <td>[261.75, 8]</td>\n",
       "      <td>[21.0, 13]</td>\n",
       "      <td>[306.46, 13]</td>\n",
       "      <td>[403.57, 7]</td>\n",
       "      <td>284.11</td>\n",
       "      <td>41</td>\n",
       "      <td>44.71</td>\n",
       "      <td>0.02</td>\n",
       "    </tr>\n",
       "    <tr>\n",
       "      <th>3</th>\n",
       "      <td>2025/1/2</td>\n",
       "      <td>7:30:03</td>\n",
       "      <td>[262.75, 48]</td>\n",
       "      <td>[261.0, 8]</td>\n",
       "      <td>[292.56, 16]</td>\n",
       "      <td>[294.59, 32]</td>\n",
       "      <td>277.66</td>\n",
       "      <td>104</td>\n",
       "      <td>29.81</td>\n",
       "      <td>0.08</td>\n",
       "    </tr>\n",
       "    <tr>\n",
       "      <th>4</th>\n",
       "      <td>2025/1/2</td>\n",
       "      <td>7:30:04</td>\n",
       "      <td>[264.0, 36]</td>\n",
       "      <td>[261.0, 6]</td>\n",
       "      <td>[287.45, 20]</td>\n",
       "      <td>[288.1, 21]</td>\n",
       "      <td>275.73</td>\n",
       "      <td>83</td>\n",
       "      <td>23.45</td>\n",
       "      <td>0.01</td>\n",
       "    </tr>\n",
       "    <tr>\n",
       "      <th>...</th>\n",
       "      <td>...</td>\n",
       "      <td>...</td>\n",
       "      <td>...</td>\n",
       "      <td>...</td>\n",
       "      <td>...</td>\n",
       "      <td>...</td>\n",
       "      <td>...</td>\n",
       "      <td>...</td>\n",
       "      <td>...</td>\n",
       "      <td>...</td>\n",
       "    </tr>\n",
       "    <tr>\n",
       "      <th>642566</th>\n",
       "      <td>2025/1/30</td>\n",
       "      <td>15:59:55</td>\n",
       "      <td>[322.46, 13]</td>\n",
       "      <td>[320.57, 42]</td>\n",
       "      <td>[324.85, 39]</td>\n",
       "      <td>[327.5, 40]</td>\n",
       "      <td>323.65</td>\n",
       "      <td>134</td>\n",
       "      <td>2.38</td>\n",
       "      <td>-0.18</td>\n",
       "    </tr>\n",
       "    <tr>\n",
       "      <th>642567</th>\n",
       "      <td>2025/1/30</td>\n",
       "      <td>15:59:56</td>\n",
       "      <td>[322.0, 21]</td>\n",
       "      <td>[320.0, 27]</td>\n",
       "      <td>[324.0, 27]</td>\n",
       "      <td>[330.56, 27]</td>\n",
       "      <td>323.00</td>\n",
       "      <td>102</td>\n",
       "      <td>2.00</td>\n",
       "      <td>-0.06</td>\n",
       "    </tr>\n",
       "    <tr>\n",
       "      <th>642568</th>\n",
       "      <td>2025/1/30</td>\n",
       "      <td>15:59:57</td>\n",
       "      <td>[322.0, 36]</td>\n",
       "      <td>[320.0, 45]</td>\n",
       "      <td>[329.8, 45]</td>\n",
       "      <td>[335.64, 84]</td>\n",
       "      <td>325.90</td>\n",
       "      <td>210</td>\n",
       "      <td>7.80</td>\n",
       "      <td>-0.23</td>\n",
       "    </tr>\n",
       "    <tr>\n",
       "      <th>642569</th>\n",
       "      <td>2025/1/30</td>\n",
       "      <td>15:59:58</td>\n",
       "      <td>[322.0, 20]</td>\n",
       "      <td>[320.0, 30]</td>\n",
       "      <td>[329.43, 35]</td>\n",
       "      <td>[333.57, 37]</td>\n",
       "      <td>325.71</td>\n",
       "      <td>122</td>\n",
       "      <td>7.43</td>\n",
       "      <td>-0.18</td>\n",
       "    </tr>\n",
       "    <tr>\n",
       "      <th>642570</th>\n",
       "      <td>2025/1/30</td>\n",
       "      <td>15:59:59</td>\n",
       "      <td>[320.25, 32]</td>\n",
       "      <td>[317.53, 34]</td>\n",
       "      <td>[327.9, 52]</td>\n",
       "      <td>[329.2, 60]</td>\n",
       "      <td>324.08</td>\n",
       "      <td>178</td>\n",
       "      <td>7.65</td>\n",
       "      <td>-0.26</td>\n",
       "    </tr>\n",
       "  </tbody>\n",
       "</table>\n",
       "<p>642571 rows × 10 columns</p>\n",
       "</div>"
      ],
      "text/plain": [
       "              Day      Time          Bid1          Bid2          Ask1  \\\n",
       "0        2025/1/2   7:30:00      [1.0, 6]        [0, 0]        [0, 0]   \n",
       "1        2025/1/2   7:30:01    [27.0, 20]     [1.0, 12]    [798.4, 5]   \n",
       "2        2025/1/2   7:30:02   [261.75, 8]    [21.0, 13]  [306.46, 13]   \n",
       "3        2025/1/2   7:30:03  [262.75, 48]    [261.0, 8]  [292.56, 16]   \n",
       "4        2025/1/2   7:30:04   [264.0, 36]    [261.0, 6]  [287.45, 20]   \n",
       "...           ...       ...           ...           ...           ...   \n",
       "642566  2025/1/30  15:59:55  [322.46, 13]  [320.57, 42]  [324.85, 39]   \n",
       "642567  2025/1/30  15:59:56   [322.0, 21]   [320.0, 27]   [324.0, 27]   \n",
       "642568  2025/1/30  15:59:57   [322.0, 36]   [320.0, 45]   [329.8, 45]   \n",
       "642569  2025/1/30  15:59:58   [322.0, 20]   [320.0, 30]  [329.43, 35]   \n",
       "642570  2025/1/30  15:59:59  [320.25, 32]  [317.53, 34]   [327.9, 52]   \n",
       "\n",
       "                Ask2  Mid_Price  Total_volume  Bid_ask_spread  Order_imbalance  \n",
       "0             [0, 0]       0.50             6           -1.00             1.00  \n",
       "1             [0, 0]     412.70            37          771.40             0.73  \n",
       "2        [403.57, 7]     284.11            41           44.71             0.02  \n",
       "3       [294.59, 32]     277.66           104           29.81             0.08  \n",
       "4        [288.1, 21]     275.73            83           23.45             0.01  \n",
       "...              ...        ...           ...             ...              ...  \n",
       "642566   [327.5, 40]     323.65           134            2.38            -0.18  \n",
       "642567  [330.56, 27]     323.00           102            2.00            -0.06  \n",
       "642568  [335.64, 84]     325.90           210            7.80            -0.23  \n",
       "642569  [333.57, 37]     325.71           122            7.43            -0.18  \n",
       "642570   [329.2, 60]     324.08           178            7.65            -0.26  \n",
       "\n",
       "[642571 rows x 10 columns]"
      ]
     },
     "execution_count": 2,
     "metadata": {},
     "output_type": "execute_result"
    }
   ],
   "source": [
    "df = pd.read_csv('/Users/chenyian/DS_mini_project/drive-download-20240302T104351Z-001/merged_2025-01.csv')\n",
    "\n",
    "df"
   ]
  },
  {
   "cell_type": "markdown",
   "metadata": {},
   "source": [
    "70%-20%-10% split"
   ]
  },
  {
   "cell_type": "code",
   "execution_count": 3,
   "metadata": {},
   "outputs": [],
   "source": [
    "n = len(df)\n",
    "train_df = df[0:int(n*0.7)]\n",
    "val_df = df[int(n*0.7):int(n*0.9)]\n",
    "test_df = df[int(n*0.9):]"
   ]
  },
  {
   "cell_type": "code",
   "execution_count": 4,
   "metadata": {},
   "outputs": [],
   "source": [
    "train_mp = train_df['Mid_Price']\n",
    "val_mp = val_df['Mid_Price']\n",
    "test_mp = test_df['Mid_Price'] "
   ]
  },
  {
   "cell_type": "markdown",
   "metadata": {},
   "source": [
    "Normalising the data"
   ]
  },
  {
   "cell_type": "code",
   "execution_count": 5,
   "metadata": {},
   "outputs": [],
   "source": [
    "train_mean = train_mp.mean()\n",
    "train_std = train_mp.std()\n",
    "\n",
    "train_nr = (train_mp - train_mean)/train_std\n",
    "val_nr = (val_mp - train_mean)/train_std\n",
    "test_nr = (test_mp - train_mean)/train_std"
   ]
  },
  {
   "cell_type": "markdown",
   "metadata": {},
   "source": [
    "Windowing"
   ]
  },
  {
   "cell_type": "code",
   "execution_count": 6,
   "metadata": {},
   "outputs": [],
   "source": [
    "def create_sequences(data, input_sequence_length, forecast_horizon):\n",
    "    X, y = [], []\n",
    "    for i in range(len(data) - input_sequence_length - forecast_horizon + 1):\n",
    "        X.append(data[i:(i + input_sequence_length)])\n",
    "        y.append(data[(i + input_sequence_length):(i + input_sequence_length + forecast_horizon)])\n",
    "    return np.array(X), np.array(y)"
   ]
  },
  {
   "cell_type": "code",
   "execution_count": 7,
   "metadata": {},
   "outputs": [
    {
     "data": {
      "text/plain": [
       "((449740, 50),\n",
       " (449740, 10),\n",
       " (128455, 50),\n",
       " (128455, 10),\n",
       " (64199, 50),\n",
       " (64199, 10))"
      ]
     },
     "execution_count": 7,
     "metadata": {},
     "output_type": "execute_result"
    }
   ],
   "source": [
    "input_sequence_length = 50\n",
    "forecast_horizon = 10\n",
    "\n",
    "X_train, y_train = create_sequences(train_nr, input_sequence_length, forecast_horizon)\n",
    "X_val, y_val = create_sequences(val_nr, input_sequence_length, forecast_horizon)\n",
    "X_test, y_test = create_sequences(test_nr, input_sequence_length, forecast_horizon)\n",
    "\n",
    "# Display the shape of the created sequences for verification\n",
    "X_train.shape, y_train.shape, X_val.shape, y_val.shape, X_test.shape, y_test.shape"
   ]
  },
  {
   "cell_type": "code",
   "execution_count": 8,
   "metadata": {},
   "outputs": [
    {
     "data": {
      "text/plain": [
       "((449740, 50, 1),\n",
       " (449740, 10, 1),\n",
       " (128455, 50, 1),\n",
       " (128455, 10, 1),\n",
       " (64199, 50, 1),\n",
       " (64199, 10, 1))"
      ]
     },
     "execution_count": 8,
     "metadata": {},
     "output_type": "execute_result"
    }
   ],
   "source": [
    "# change the shape to fit the LSTM model\n",
    "\n",
    "X_train = X_train[:, :, np.newaxis]\n",
    "X_val = X_val[:, :, np.newaxis]\n",
    "X_test = X_test[:, :, np.newaxis]\n",
    "\n",
    "\n",
    "y_train = y_train[:, :, np.newaxis]\n",
    "y_val = y_val[:, :, np.newaxis]\n",
    "y_test = y_test[:, :, np.newaxis]\n",
    "\n",
    "# Display the shape of the created sequences for verification\n",
    "X_train.shape, y_train.shape, X_val.shape, y_val.shape, X_test.shape, y_test.shape"
   ]
  },
  {
   "cell_type": "code",
   "execution_count": 9,
   "metadata": {},
   "outputs": [],
   "source": [
    "from tensorflow.keras.models import Sequential\n",
    "from tensorflow.keras.optimizers import Adam\n",
    "from tensorflow.keras import layers"
   ]
  },
  {
   "cell_type": "code",
   "execution_count": 10,
   "metadata": {},
   "outputs": [
    {
     "name": "stdout",
     "output_type": "stream",
     "text": [
      "Metal device set to: Apple M1\n",
      "\n",
      "systemMemory: 16.00 GB\n",
      "maxCacheSize: 5.33 GB\n",
      "\n",
      "Epoch 1/20\n"
     ]
    },
    {
     "name": "stderr",
     "output_type": "stream",
     "text": [
      "2024-03-18 09:08:18.264115: I tensorflow/core/common_runtime/pluggable_device/pluggable_device_factory.cc:305] Could not identify NUMA node of platform GPU ID 0, defaulting to 0. Your kernel may not have been built with NUMA support.\n",
      "2024-03-18 09:08:18.265070: I tensorflow/core/common_runtime/pluggable_device/pluggable_device_factory.cc:271] Created TensorFlow device (/job:localhost/replica:0/task:0/device:GPU:0 with 0 MB memory) -> physical PluggableDevice (device: 0, name: METAL, pci bus id: <undefined>)\n",
      "2024-03-18 09:08:18.419940: W tensorflow/core/platform/profile_utils/cpu_utils.cc:128] Failed to get CPU frequency: 0 Hz\n",
      "2024-03-18 09:08:19.239323: I tensorflow/core/grappler/optimizers/custom_graph_optimizer_registry.cc:113] Plugin optimizer for device_type GPU is enabled.\n",
      "2024-03-18 09:08:19.403841: I tensorflow/core/grappler/optimizers/custom_graph_optimizer_registry.cc:113] Plugin optimizer for device_type GPU is enabled.\n",
      "2024-03-18 09:08:19.587299: I tensorflow/core/grappler/optimizers/custom_graph_optimizer_registry.cc:113] Plugin optimizer for device_type GPU is enabled.\n"
     ]
    },
    {
     "name": "stdout",
     "output_type": "stream",
     "text": [
      "14055/14055 [==============================] - ETA: 0s - loss: 0.3221 - mean_absolute_error: 0.2703"
     ]
    },
    {
     "name": "stderr",
     "output_type": "stream",
     "text": [
      "2024-03-18 09:12:34.943081: I tensorflow/core/grappler/optimizers/custom_graph_optimizer_registry.cc:113] Plugin optimizer for device_type GPU is enabled.\n",
      "2024-03-18 09:12:35.005525: I tensorflow/core/grappler/optimizers/custom_graph_optimizer_registry.cc:113] Plugin optimizer for device_type GPU is enabled.\n"
     ]
    },
    {
     "name": "stdout",
     "output_type": "stream",
     "text": [
      "14055/14055 [==============================] - 296s 21ms/step - loss: 0.3221 - mean_absolute_error: 0.2703 - val_loss: 0.4569 - val_mean_absolute_error: 0.3422\n",
      "Epoch 2/20\n",
      "14055/14055 [==============================] - 293s 21ms/step - loss: 0.3098 - mean_absolute_error: 0.2616 - val_loss: 0.4559 - val_mean_absolute_error: 0.3505\n",
      "Epoch 3/20\n",
      "14055/14055 [==============================] - 295s 21ms/step - loss: 0.3064 - mean_absolute_error: 0.2597 - val_loss: 0.4494 - val_mean_absolute_error: 0.3379\n",
      "Epoch 4/20\n",
      "14055/14055 [==============================] - 324s 23ms/step - loss: 0.3043 - mean_absolute_error: 0.2588 - val_loss: 0.4507 - val_mean_absolute_error: 0.3392\n",
      "Epoch 5/20\n",
      "14055/14055 [==============================] - 317s 23ms/step - loss: 0.3026 - mean_absolute_error: 0.2582 - val_loss: 0.4531 - val_mean_absolute_error: 0.3469\n",
      "Epoch 6/20\n",
      "14055/14055 [==============================] - 320s 23ms/step - loss: 0.3008 - mean_absolute_error: 0.2575 - val_loss: 0.4536 - val_mean_absolute_error: 0.3328\n",
      "Epoch 7/20\n",
      "14055/14055 [==============================] - 310s 22ms/step - loss: 0.2992 - mean_absolute_error: 0.2569 - val_loss: 0.4530 - val_mean_absolute_error: 0.3414\n",
      "Epoch 8/20\n",
      "14055/14055 [==============================] - 297s 21ms/step - loss: 0.2978 - mean_absolute_error: 0.2565 - val_loss: 0.4557 - val_mean_absolute_error: 0.3331\n",
      "Epoch 9/20\n",
      "14055/14055 [==============================] - 304s 22ms/step - loss: 0.2965 - mean_absolute_error: 0.2559 - val_loss: 0.4564 - val_mean_absolute_error: 0.3379\n",
      "Epoch 10/20\n",
      "14055/14055 [==============================] - 298s 21ms/step - loss: 0.2953 - mean_absolute_error: 0.2556 - val_loss: 0.4562 - val_mean_absolute_error: 0.3361\n",
      "Epoch 11/20\n",
      "14055/14055 [==============================] - 301s 21ms/step - loss: 0.2946 - mean_absolute_error: 0.2554 - val_loss: 0.4574 - val_mean_absolute_error: 0.3355\n",
      "Epoch 12/20\n",
      "14055/14055 [==============================] - 309s 22ms/step - loss: 0.2932 - mean_absolute_error: 0.2549 - val_loss: 0.4626 - val_mean_absolute_error: 0.3408\n",
      "Epoch 13/20\n",
      "14055/14055 [==============================] - 313s 22ms/step - loss: 0.2925 - mean_absolute_error: 0.2547 - val_loss: 0.4634 - val_mean_absolute_error: 0.3390\n",
      "Epoch 14/20\n",
      "14055/14055 [==============================] - 314s 22ms/step - loss: 0.2914 - mean_absolute_error: 0.2543 - val_loss: 0.4626 - val_mean_absolute_error: 0.3427\n",
      "Epoch 15/20\n",
      "14055/14055 [==============================] - 337s 24ms/step - loss: 0.2905 - mean_absolute_error: 0.2541 - val_loss: 0.4639 - val_mean_absolute_error: 0.3437\n",
      "Epoch 16/20\n",
      "14055/14055 [==============================] - 317s 23ms/step - loss: 0.2897 - mean_absolute_error: 0.2539 - val_loss: 0.4692 - val_mean_absolute_error: 0.3419\n",
      "Epoch 17/20\n",
      "14055/14055 [==============================] - 324s 23ms/step - loss: 0.2889 - mean_absolute_error: 0.2536 - val_loss: 0.4666 - val_mean_absolute_error: 0.3417\n",
      "Epoch 18/20\n",
      " 5451/14055 [==========>...................] - ETA: 2:41 - loss: 0.2893 - mean_absolute_error: 0.2542"
     ]
    },
    {
     "ename": "KeyboardInterrupt",
     "evalue": "",
     "output_type": "error",
     "traceback": [
      "\u001b[0;31m---------------------------------------------------------------------------\u001b[0m",
      "\u001b[0;31mKeyboardInterrupt\u001b[0m                         Traceback (most recent call last)",
      "Input \u001b[0;32mIn [10]\u001b[0m, in \u001b[0;36m<cell line: 15>\u001b[0;34m()\u001b[0m\n\u001b[1;32m      4\u001b[0m lstm_model \u001b[38;5;241m=\u001b[39m Sequential([\n\u001b[1;32m      5\u001b[0m     layers\u001b[38;5;241m.\u001b[39mLSTM(\u001b[38;5;241m32\u001b[39m),\n\u001b[1;32m      6\u001b[0m     layers\u001b[38;5;241m.\u001b[39mDense(OUT_STEPS\u001b[38;5;241m*\u001b[39mnum_features, kernel_initializer \u001b[38;5;241m=\u001b[39m tf\u001b[38;5;241m.\u001b[39minitializers\u001b[38;5;241m.\u001b[39mzeros()),\n\u001b[1;32m      7\u001b[0m \n\u001b[1;32m      8\u001b[0m     layers\u001b[38;5;241m.\u001b[39mReshape([OUT_STEPS, num_features])\n\u001b[1;32m      9\u001b[0m ])\n\u001b[1;32m     11\u001b[0m lstm_model\u001b[38;5;241m.\u001b[39mcompile(loss\u001b[38;5;241m=\u001b[39m\u001b[38;5;124m'\u001b[39m\u001b[38;5;124mmse\u001b[39m\u001b[38;5;124m'\u001b[39m, \n\u001b[1;32m     12\u001b[0m               optimizer\u001b[38;5;241m=\u001b[39mAdam(learning_rate\u001b[38;5;241m=\u001b[39m\u001b[38;5;241m0.001\u001b[39m),\n\u001b[1;32m     13\u001b[0m               metrics\u001b[38;5;241m=\u001b[39m[\u001b[38;5;124m'\u001b[39m\u001b[38;5;124mmean_absolute_error\u001b[39m\u001b[38;5;124m'\u001b[39m])\n\u001b[0;32m---> 15\u001b[0m \u001b[43mlstm_model\u001b[49m\u001b[38;5;241;43m.\u001b[39;49m\u001b[43mfit\u001b[49m\u001b[43m(\u001b[49m\u001b[43mX_train\u001b[49m\u001b[43m,\u001b[49m\u001b[43m \u001b[49m\u001b[43my_train\u001b[49m\u001b[43m,\u001b[49m\u001b[43m \u001b[49m\u001b[43mvalidation_data\u001b[49m\u001b[38;5;241;43m=\u001b[39;49m\u001b[43m(\u001b[49m\u001b[43mX_val\u001b[49m\u001b[43m,\u001b[49m\u001b[43m \u001b[49m\u001b[43my_val\u001b[49m\u001b[43m)\u001b[49m\u001b[43m,\u001b[49m\u001b[43m \u001b[49m\u001b[43mepochs\u001b[49m\u001b[38;5;241;43m=\u001b[39;49m\u001b[38;5;241;43m20\u001b[39;49m\u001b[43m)\u001b[49m\n",
      "File \u001b[0;32m~/miniforge3/envs/mlp/lib/python3.8/site-packages/keras/utils/traceback_utils.py:64\u001b[0m, in \u001b[0;36mfilter_traceback.<locals>.error_handler\u001b[0;34m(*args, **kwargs)\u001b[0m\n\u001b[1;32m     62\u001b[0m filtered_tb \u001b[38;5;241m=\u001b[39m \u001b[38;5;28;01mNone\u001b[39;00m\n\u001b[1;32m     63\u001b[0m \u001b[38;5;28;01mtry\u001b[39;00m:\n\u001b[0;32m---> 64\u001b[0m   \u001b[38;5;28;01mreturn\u001b[39;00m \u001b[43mfn\u001b[49m\u001b[43m(\u001b[49m\u001b[38;5;241;43m*\u001b[39;49m\u001b[43margs\u001b[49m\u001b[43m,\u001b[49m\u001b[43m \u001b[49m\u001b[38;5;241;43m*\u001b[39;49m\u001b[38;5;241;43m*\u001b[39;49m\u001b[43mkwargs\u001b[49m\u001b[43m)\u001b[49m\n\u001b[1;32m     65\u001b[0m \u001b[38;5;28;01mexcept\u001b[39;00m \u001b[38;5;167;01mException\u001b[39;00m \u001b[38;5;28;01mas\u001b[39;00m e:  \u001b[38;5;66;03m# pylint: disable=broad-except\u001b[39;00m\n\u001b[1;32m     66\u001b[0m   filtered_tb \u001b[38;5;241m=\u001b[39m _process_traceback_frames(e\u001b[38;5;241m.\u001b[39m__traceback__)\n",
      "File \u001b[0;32m~/miniforge3/envs/mlp/lib/python3.8/site-packages/keras/engine/training.py:1376\u001b[0m, in \u001b[0;36mModel.fit\u001b[0;34m(self, x, y, batch_size, epochs, verbose, callbacks, validation_split, validation_data, shuffle, class_weight, sample_weight, initial_epoch, steps_per_epoch, validation_steps, validation_batch_size, validation_freq, max_queue_size, workers, use_multiprocessing)\u001b[0m\n\u001b[1;32m   1374\u001b[0m callbacks\u001b[38;5;241m.\u001b[39mon_epoch_begin(epoch)\n\u001b[1;32m   1375\u001b[0m \u001b[38;5;28;01mwith\u001b[39;00m data_handler\u001b[38;5;241m.\u001b[39mcatch_stop_iteration():\n\u001b[0;32m-> 1376\u001b[0m   \u001b[38;5;28;01mfor\u001b[39;00m step \u001b[38;5;129;01min\u001b[39;00m data_handler\u001b[38;5;241m.\u001b[39msteps():\n\u001b[1;32m   1377\u001b[0m     \u001b[38;5;28;01mwith\u001b[39;00m tf\u001b[38;5;241m.\u001b[39mprofiler\u001b[38;5;241m.\u001b[39mexperimental\u001b[38;5;241m.\u001b[39mTrace(\n\u001b[1;32m   1378\u001b[0m         \u001b[38;5;124m'\u001b[39m\u001b[38;5;124mtrain\u001b[39m\u001b[38;5;124m'\u001b[39m,\n\u001b[1;32m   1379\u001b[0m         epoch_num\u001b[38;5;241m=\u001b[39mepoch,\n\u001b[1;32m   1380\u001b[0m         step_num\u001b[38;5;241m=\u001b[39mstep,\n\u001b[1;32m   1381\u001b[0m         batch_size\u001b[38;5;241m=\u001b[39mbatch_size,\n\u001b[1;32m   1382\u001b[0m         _r\u001b[38;5;241m=\u001b[39m\u001b[38;5;241m1\u001b[39m):\n\u001b[1;32m   1383\u001b[0m       callbacks\u001b[38;5;241m.\u001b[39mon_train_batch_begin(step)\n",
      "File \u001b[0;32m~/miniforge3/envs/mlp/lib/python3.8/site-packages/keras/engine/data_adapter.py:1246\u001b[0m, in \u001b[0;36mDataHandler.steps\u001b[0;34m(self)\u001b[0m\n\u001b[1;32m   1244\u001b[0m \u001b[38;5;28;01mif\u001b[39;00m \u001b[38;5;28mself\u001b[39m\u001b[38;5;241m.\u001b[39m_insufficient_data:  \u001b[38;5;66;03m# Set by `catch_stop_iteration`.\u001b[39;00m\n\u001b[1;32m   1245\u001b[0m   \u001b[38;5;28;01mbreak\u001b[39;00m\n\u001b[0;32m-> 1246\u001b[0m original_spe \u001b[38;5;241m=\u001b[39m \u001b[38;5;28;43mself\u001b[39;49m\u001b[38;5;241;43m.\u001b[39;49m\u001b[43m_steps_per_execution\u001b[49m\u001b[38;5;241;43m.\u001b[39;49m\u001b[43mnumpy\u001b[49m\u001b[43m(\u001b[49m\u001b[43m)\u001b[49m\u001b[38;5;241m.\u001b[39mitem()\n\u001b[1;32m   1247\u001b[0m can_run_full_execution \u001b[38;5;241m=\u001b[39m (\n\u001b[1;32m   1248\u001b[0m     original_spe \u001b[38;5;241m==\u001b[39m \u001b[38;5;241m1\u001b[39m \u001b[38;5;129;01mor\u001b[39;00m\n\u001b[1;32m   1249\u001b[0m     \u001b[38;5;28mself\u001b[39m\u001b[38;5;241m.\u001b[39m_inferred_steps \u001b[38;5;129;01mis\u001b[39;00m \u001b[38;5;28;01mNone\u001b[39;00m \u001b[38;5;129;01mor\u001b[39;00m\n\u001b[1;32m   1250\u001b[0m     \u001b[38;5;28mself\u001b[39m\u001b[38;5;241m.\u001b[39m_inferred_steps \u001b[38;5;241m-\u001b[39m \u001b[38;5;28mself\u001b[39m\u001b[38;5;241m.\u001b[39m_current_step \u001b[38;5;241m>\u001b[39m\u001b[38;5;241m=\u001b[39m\n\u001b[1;32m   1251\u001b[0m     original_spe)\n\u001b[1;32m   1253\u001b[0m \u001b[38;5;28;01mif\u001b[39;00m can_run_full_execution:\n",
      "File \u001b[0;32m~/miniforge3/envs/mlp/lib/python3.8/site-packages/tensorflow/python/ops/resource_variable_ops.py:674\u001b[0m, in \u001b[0;36mBaseResourceVariable.numpy\u001b[0;34m(self)\u001b[0m\n\u001b[1;32m    672\u001b[0m \u001b[38;5;28;01mdef\u001b[39;00m \u001b[38;5;21mnumpy\u001b[39m(\u001b[38;5;28mself\u001b[39m):\n\u001b[1;32m    673\u001b[0m   \u001b[38;5;28;01mif\u001b[39;00m context\u001b[38;5;241m.\u001b[39mexecuting_eagerly():\n\u001b[0;32m--> 674\u001b[0m     \u001b[38;5;28;01mreturn\u001b[39;00m \u001b[38;5;28;43mself\u001b[39;49m\u001b[38;5;241;43m.\u001b[39;49m\u001b[43mread_value\u001b[49m\u001b[43m(\u001b[49m\u001b[43m)\u001b[49m\u001b[38;5;241;43m.\u001b[39;49m\u001b[43mnumpy\u001b[49m\u001b[43m(\u001b[49m\u001b[43m)\u001b[49m\n\u001b[1;32m    675\u001b[0m   \u001b[38;5;28;01mraise\u001b[39;00m \u001b[38;5;167;01mNotImplementedError\u001b[39;00m(\n\u001b[1;32m    676\u001b[0m       \u001b[38;5;124m\"\u001b[39m\u001b[38;5;124mnumpy() is only available when eager execution is enabled.\u001b[39m\u001b[38;5;124m\"\u001b[39m)\n",
      "File \u001b[0;32m~/miniforge3/envs/mlp/lib/python3.8/site-packages/tensorflow/python/framework/ops.py:1223\u001b[0m, in \u001b[0;36m_EagerTensorBase.numpy\u001b[0;34m(self)\u001b[0m\n\u001b[1;32m   1200\u001b[0m \u001b[38;5;124;03m\"\"\"Copy of the contents of this Tensor into a NumPy array or scalar.\u001b[39;00m\n\u001b[1;32m   1201\u001b[0m \n\u001b[1;32m   1202\u001b[0m \u001b[38;5;124;03mUnlike NumPy arrays, Tensors are immutable, so this method has to copy\u001b[39;00m\n\u001b[0;32m   (...)\u001b[0m\n\u001b[1;32m   1220\u001b[0m \u001b[38;5;124;03m    NumPy dtype.\u001b[39;00m\n\u001b[1;32m   1221\u001b[0m \u001b[38;5;124;03m\"\"\"\u001b[39;00m\n\u001b[1;32m   1222\u001b[0m \u001b[38;5;66;03m# TODO(slebedev): Consider avoiding a copy for non-CPU or remote tensors.\u001b[39;00m\n\u001b[0;32m-> 1223\u001b[0m maybe_arr \u001b[38;5;241m=\u001b[39m \u001b[38;5;28;43mself\u001b[39;49m\u001b[38;5;241;43m.\u001b[39;49m\u001b[43m_numpy\u001b[49m\u001b[43m(\u001b[49m\u001b[43m)\u001b[49m  \u001b[38;5;66;03m# pylint: disable=protected-access\u001b[39;00m\n\u001b[1;32m   1224\u001b[0m \u001b[38;5;28;01mreturn\u001b[39;00m maybe_arr\u001b[38;5;241m.\u001b[39mcopy() \u001b[38;5;28;01mif\u001b[39;00m \u001b[38;5;28misinstance\u001b[39m(maybe_arr, np\u001b[38;5;241m.\u001b[39mndarray) \u001b[38;5;28;01melse\u001b[39;00m maybe_arr\n",
      "File \u001b[0;32m~/miniforge3/envs/mlp/lib/python3.8/site-packages/tensorflow/python/framework/ops.py:1189\u001b[0m, in \u001b[0;36m_EagerTensorBase._numpy\u001b[0;34m(self)\u001b[0m\n\u001b[1;32m   1187\u001b[0m \u001b[38;5;28;01mdef\u001b[39;00m \u001b[38;5;21m_numpy\u001b[39m(\u001b[38;5;28mself\u001b[39m):\n\u001b[1;32m   1188\u001b[0m   \u001b[38;5;28;01mtry\u001b[39;00m:\n\u001b[0;32m-> 1189\u001b[0m     \u001b[38;5;28;01mreturn\u001b[39;00m \u001b[38;5;28;43mself\u001b[39;49m\u001b[38;5;241;43m.\u001b[39;49m\u001b[43m_numpy_internal\u001b[49m\u001b[43m(\u001b[49m\u001b[43m)\u001b[49m\n\u001b[1;32m   1190\u001b[0m   \u001b[38;5;28;01mexcept\u001b[39;00m core\u001b[38;5;241m.\u001b[39m_NotOkStatusException \u001b[38;5;28;01mas\u001b[39;00m e:  \u001b[38;5;66;03m# pylint: disable=protected-access\u001b[39;00m\n\u001b[1;32m   1191\u001b[0m     \u001b[38;5;28;01mraise\u001b[39;00m core\u001b[38;5;241m.\u001b[39m_status_to_exception(e) \u001b[38;5;28;01mfrom\u001b[39;00m \u001b[38;5;28mNone\u001b[39m\n",
      "\u001b[0;31mKeyboardInterrupt\u001b[0m: "
     ]
    }
   ],
   "source": [
    "OUT_STEPS = 10\n",
    "num_features = 1\n",
    "\n",
    "lstm_model = Sequential([\n",
    "    layers.LSTM(32),\n",
    "    layers.Dense(OUT_STEPS*num_features, kernel_initializer = tf.initializers.zeros()),\n",
    "\n",
    "    layers.Reshape([OUT_STEPS, num_features])\n",
    "])\n",
    "\n",
    "lstm_model.compile(loss='mse', \n",
    "              optimizer=Adam(learning_rate=0.001),\n",
    "              metrics=['mean_absolute_error'])\n",
    "\n",
    "lstm_model.fit(X_train, y_train, validation_data=(X_val, y_val), epochs=20)"
   ]
  },
  {
   "cell_type": "code",
   "execution_count": 30,
   "metadata": {},
   "outputs": [],
   "source": [
    "x_input = np.expand_dims(X_test[0], axis=0)\n",
    "\n",
    "# Now x_input has shape (1, timesteps, features)\n",
    "y0_pred = lstm_model.predict(x_input)"
   ]
  },
  {
   "cell_type": "code",
   "execution_count": null,
   "metadata": {},
   "outputs": [],
   "source": []
  },
  {
   "cell_type": "code",
   "execution_count": 31,
   "metadata": {},
   "outputs": [
    {
     "data": {
      "text/plain": [
       "(1, 10, 1)"
      ]
     },
     "execution_count": 31,
     "metadata": {},
     "output_type": "execute_result"
    }
   ],
   "source": [
    "y0_pred.shape"
   ]
  },
  {
   "cell_type": "code",
   "execution_count": 32,
   "metadata": {},
   "outputs": [
    {
     "data": {
      "text/plain": [
       "array([[[1.4048504],\n",
       "        [1.3950534],\n",
       "        [1.3853322],\n",
       "        [1.3453727],\n",
       "        [1.3295223],\n",
       "        [1.3119004],\n",
       "        [1.3227053],\n",
       "        [1.3217578],\n",
       "        [1.3499906],\n",
       "        [1.3701711]]], dtype=float32)"
      ]
     },
     "execution_count": 32,
     "metadata": {},
     "output_type": "execute_result"
    }
   ],
   "source": [
    "y0_pred"
   ]
  },
  {
   "cell_type": "code",
   "execution_count": 33,
   "metadata": {},
   "outputs": [
    {
     "data": {
      "text/plain": [
       "array([[1.40020495],\n",
       "       [1.54559223],\n",
       "       [1.64251707],\n",
       "       [1.63314767],\n",
       "       [1.61311654],\n",
       "       [1.60083939],\n",
       "       [1.54720764],\n",
       "       [1.61925511],\n",
       "       [1.4990683 ],\n",
       "       [1.44123647]])"
      ]
     },
     "execution_count": 33,
     "metadata": {},
     "output_type": "execute_result"
    }
   ],
   "source": [
    "y_test[0]"
   ]
  },
  {
   "cell_type": "code",
   "execution_count": 37,
   "metadata": {},
   "outputs": [
    {
     "data": {
      "text/plain": [
       "array([[1.40408195]])"
      ]
     },
     "execution_count": 37,
     "metadata": {},
     "output_type": "execute_result"
    }
   ],
   "source": [
    "x_input[:,-1]"
   ]
  },
  {
   "cell_type": "code",
   "execution_count": 38,
   "metadata": {},
   "outputs": [
    {
     "data": {
      "text/plain": [
       "1.3536656"
      ]
     },
     "execution_count": 38,
     "metadata": {},
     "output_type": "execute_result"
    }
   ],
   "source": [
    "np.mean(y0_pred)"
   ]
  },
  {
   "cell_type": "code",
   "execution_count": 39,
   "metadata": {},
   "outputs": [
    {
     "data": {
      "text/plain": [
       "1.554218537433623"
      ]
     },
     "execution_count": 39,
     "metadata": {},
     "output_type": "execute_result"
    }
   ],
   "source": [
    "np.mean(y_test[0])"
   ]
  },
  {
   "cell_type": "code",
   "execution_count": 40,
   "metadata": {},
   "outputs": [],
   "source": [
    "x_input1 = np.expand_dims(X_test[1], axis=0)\n",
    "\n",
    "# Now x_input has shape (1, timesteps, features)\n",
    "y1_pred = lstm_model.predict(x_input1)"
   ]
  },
  {
   "cell_type": "code",
   "execution_count": 41,
   "metadata": {},
   "outputs": [
    {
     "data": {
      "text/plain": [
       "array([[[1.4155594],\n",
       "        [1.407046 ],\n",
       "        [1.3981781],\n",
       "        [1.3584292],\n",
       "        [1.3420728],\n",
       "        [1.3231003],\n",
       "        [1.3315523],\n",
       "        [1.3295324],\n",
       "        [1.3558943],\n",
       "        [1.3750975]]], dtype=float32)"
      ]
     },
     "execution_count": 41,
     "metadata": {},
     "output_type": "execute_result"
    }
   ],
   "source": [
    "y1_pred"
   ]
  },
  {
   "cell_type": "code",
   "execution_count": 42,
   "metadata": {},
   "outputs": [
    {
     "data": {
      "text/plain": [
       "array([[1.54559223],\n",
       "       [1.64251707],\n",
       "       [1.63314767],\n",
       "       [1.61311654],\n",
       "       [1.60083939],\n",
       "       [1.54720764],\n",
       "       [1.61925511],\n",
       "       [1.4990683 ],\n",
       "       [1.44123647],\n",
       "       [1.41312827]])"
      ]
     },
     "execution_count": 42,
     "metadata": {},
     "output_type": "execute_result"
    }
   ],
   "source": [
    "y_test[1]"
   ]
  },
  {
   "cell_type": "code",
   "execution_count": 43,
   "metadata": {},
   "outputs": [
    {
     "data": {
      "text/plain": [
       "1.3636461"
      ]
     },
     "execution_count": 43,
     "metadata": {},
     "output_type": "execute_result"
    }
   ],
   "source": [
    "np.mean(y1_pred)"
   ]
  },
  {
   "cell_type": "code",
   "execution_count": 44,
   "metadata": {},
   "outputs": [
    {
     "data": {
      "text/plain": [
       "1.5555108687421115"
      ]
     },
     "execution_count": 44,
     "metadata": {},
     "output_type": "execute_result"
    }
   ],
   "source": [
    "np.mean(y_test[1])"
   ]
  },
  {
   "cell_type": "code",
   "execution_count": 46,
   "metadata": {},
   "outputs": [
    {
     "data": {
      "text/plain": [
       "array([[1.40408195]])"
      ]
     },
     "execution_count": 46,
     "metadata": {},
     "output_type": "execute_result"
    }
   ],
   "source": [
    "x_input[:,-1]"
   ]
  },
  {
   "cell_type": "code",
   "execution_count": 49,
   "metadata": {},
   "outputs": [],
   "source": [
    "x_ = np.arange(len(y_test))"
   ]
  },
  {
   "cell_type": "code",
   "execution_count": 52,
   "metadata": {},
   "outputs": [
    {
     "data": {
      "image/png": "[encoded data removed]",
      "text/plain": [
       "<Figure size 720x432 with 1 Axes>"
      ]
     },
     "metadata": {
      "needs_background": "light"
     },
     "output_type": "display_data"
    }
   ],
   "source": [
    "plt.figure(figsize=(10, 6))  # Optionally set the figure size\n",
    "plt.plot(x_, y_test[:,0])  # Plot the time series data\n",
    "plt.title('Time Series Example')  # Add a title\n",
    "plt.xlabel('Time')  # Label the x-axis\n",
    "plt.ylabel('Value')  # Label the y-axis\n",
    "plt.xticks(rotation=45)  # Rotate date labels for better readability\n",
    "plt.tight_layout()  # Automatically adjust subplot parameters to give specified padding\n",
    "plt.show()"
   ]
  },
  {
   "cell_type": "code",
   "execution_count": 53,
   "metadata": {},
   "outputs": [],
   "source": [
    "y_pred = lstm_model.predict(X_test)"
   ]
  },
  {
   "cell_type": "code",
   "execution_count": 54,
   "metadata": {},
   "outputs": [
    {
     "data": {
      "image/png": "[encoded data removed]",
      "text/plain": [
       "<Figure size 720x432 with 1 Axes>"
      ]
     },
     "metadata": {
      "needs_background": "light"
     },
     "output_type": "display_data"
    }
   ],
   "source": [
    "plt.figure(figsize=(10, 6))  # Optionally set the figure size\n",
    "plt.plot(x_, y_test[:,0])  # Plot the time series data\n",
    "plt.plot(x_, y_pred[:,0])\n",
    "plt.title('Time Series Example')  # Add a title\n",
    "plt.xlabel('Time')  # Label the x-axis\n",
    "plt.ylabel('Value')  # Label the y-axis\n",
    "plt.xticks(rotation=45)  # Rotate date labels for better readability\n",
    "plt.tight_layout()  # Automatically adjust subplot parameters to give specified padding\n",
    "plt.show()"
   ]
  },
  {
   "cell_type": "code",
   "execution_count": 55,
   "metadata": {},
   "outputs": [
    {
     "data": {
      "text/plain": [
       "0.0733137066994526"
      ]
     },
     "execution_count": 55,
     "metadata": {},
     "output_type": "execute_result"
    }
   ],
   "source": [
    "np.mean(np.square(y_pred[:,0] - y_test[:,0]))"
   ]
  },
  {
   "cell_type": "code",
   "execution_count": null,
   "metadata": {},
   "outputs": [],
   "source": []
  }
 ],
 "metadata": {
  "kernelspec": {
   "display_name": "mlp",
   "language": "python",
   "name": "python3"
  },
  "language_info": {
   "codemirror_mode": {
    "name": "ipython",
    "version": 3
   },
   "file_extension": ".py",
   "mimetype": "text/x-python",
   "name": "python",
   "nbconvert_exporter": "python",
   "pygments_lexer": "ipython3",
   "version": "3.8.18"
  }
 },
 "nbformat": 4,
 "nbformat_minor": 2
}
