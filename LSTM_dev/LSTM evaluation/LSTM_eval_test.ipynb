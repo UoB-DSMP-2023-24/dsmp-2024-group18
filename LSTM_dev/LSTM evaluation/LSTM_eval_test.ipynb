{
 "cells": [
  {
   "cell_type": "code",
   "execution_count": 13,
   "metadata": {},
   "outputs": [],
   "source": [
    "import pandas as pd \n",
    "import numpy as np\n",
    "\n",
    "import seaborn as sns\n",
    "import matplotlib.pyplot as plt"
   ]
  },
  {
   "cell_type": "code",
   "execution_count": 31,
   "metadata": {},
   "outputs": [
    {
     "name": "stdout",
     "output_type": "stream",
     "text": [
      "Requirement already satisfied: seaborn in /Users/chenyian/miniforge3/envs/mlp/lib/python3.8/site-packages (0.11.2)\n",
      "Collecting seaborn\n",
      "  Downloading seaborn-0.13.2-py3-none-any.whl (294 kB)\n",
      "\u001b[K     |████████████████████████████████| 294 kB 7.4 MB/s eta 0:00:01\n",
      "\u001b[?25hRequirement already satisfied: numpy!=1.24.0,>=1.20 in /Users/chenyian/miniforge3/envs/mlp/lib/python3.8/site-packages (from seaborn) (1.24.4)\n",
      "Requirement already satisfied: pandas>=1.2 in /Users/chenyian/miniforge3/envs/mlp/lib/python3.8/site-packages (from seaborn) (1.4.2)\n",
      "Requirement already satisfied: matplotlib!=3.6.1,>=3.4 in /Users/chenyian/miniforge3/envs/mlp/lib/python3.8/site-packages (from seaborn) (3.7.1)\n",
      "Requirement already satisfied: kiwisolver>=1.0.1 in /Users/chenyian/miniforge3/envs/mlp/lib/python3.8/site-packages (from matplotlib!=3.6.1,>=3.4->seaborn) (1.4.4)\n",
      "Requirement already satisfied: contourpy>=1.0.1 in /Users/chenyian/miniforge3/envs/mlp/lib/python3.8/site-packages (from matplotlib!=3.6.1,>=3.4->seaborn) (1.0.5)\n",
      "Requirement already satisfied: importlib-resources>=3.2.0 in /Users/chenyian/miniforge3/envs/mlp/lib/python3.8/site-packages (from matplotlib!=3.6.1,>=3.4->seaborn) (5.7.1)\n",
      "Requirement already satisfied: cycler>=0.10 in /Users/chenyian/miniforge3/envs/mlp/lib/python3.8/site-packages (from matplotlib!=3.6.1,>=3.4->seaborn) (0.11.0)\n",
      "Requirement already satisfied: packaging>=20.0 in /Users/chenyian/miniforge3/envs/mlp/lib/python3.8/site-packages (from matplotlib!=3.6.1,>=3.4->seaborn) (23.1)\n",
      "Requirement already satisfied: pyparsing>=2.3.1 in /Users/chenyian/miniforge3/envs/mlp/lib/python3.8/site-packages (from matplotlib!=3.6.1,>=3.4->seaborn) (3.0.9)\n",
      "Requirement already satisfied: python-dateutil>=2.7 in /Users/chenyian/miniforge3/envs/mlp/lib/python3.8/site-packages (from matplotlib!=3.6.1,>=3.4->seaborn) (2.8.2)\n",
      "Requirement already satisfied: fonttools>=4.22.0 in /Users/chenyian/miniforge3/envs/mlp/lib/python3.8/site-packages (from matplotlib!=3.6.1,>=3.4->seaborn) (4.33.3)\n",
      "Requirement already satisfied: pillow>=6.2.0 in /Users/chenyian/miniforge3/envs/mlp/lib/python3.8/site-packages (from matplotlib!=3.6.1,>=3.4->seaborn) (9.4.0)\n",
      "Requirement already satisfied: zipp>=3.1.0 in /Users/chenyian/miniforge3/envs/mlp/lib/python3.8/site-packages (from importlib-resources>=3.2.0->matplotlib!=3.6.1,>=3.4->seaborn) (3.8.0)\n",
      "Requirement already satisfied: pytz>=2020.1 in /Users/chenyian/miniforge3/envs/mlp/lib/python3.8/site-packages (from pandas>=1.2->seaborn) (2022.1)\n",
      "Requirement already satisfied: six>=1.5 in /Users/chenyian/miniforge3/envs/mlp/lib/python3.8/site-packages (from python-dateutil>=2.7->matplotlib!=3.6.1,>=3.4->seaborn) (1.16.0)\n",
      "Installing collected packages: seaborn\n",
      "  Attempting uninstall: seaborn\n",
      "    Found existing installation: seaborn 0.11.2\n",
      "    Uninstalling seaborn-0.11.2:\n",
      "      Successfully uninstalled seaborn-0.11.2\n",
      "Successfully installed seaborn-0.13.2\n",
      "Note: you may need to restart the kernel to use updated packages.\n"
     ]
    }
   ],
   "source": [
    "pip install seaborn --upgrade"
   ]
  },
  {
   "cell_type": "code",
   "execution_count": 14,
   "metadata": {},
   "outputs": [],
   "source": [
    "sns.reset_defaults()"
   ]
  },
  {
   "cell_type": "markdown",
   "metadata": {},
   "source": [
    "Strategy A"
   ]
  },
  {
   "cell_type": "code",
   "execution_count": 15,
   "metadata": {},
   "outputs": [
    {
     "data": {
      "text/html": [
       "<div>\n",
       "<style scoped>\n",
       "    .dataframe tbody tr th:only-of-type {\n",
       "        vertical-align: middle;\n",
       "    }\n",
       "\n",
       "    .dataframe tbody tr th {\n",
       "        vertical-align: top;\n",
       "    }\n",
       "\n",
       "    .dataframe thead th {\n",
       "        text-align: right;\n",
       "    }\n",
       "</style>\n",
       "<table border=\"1\" class=\"dataframe\">\n",
       "  <thead>\n",
       "    <tr style=\"text-align: right;\">\n",
       "      <th></th>\n",
       "      <th>DateTime_Minute</th>\n",
       "      <th>Bid1_Price</th>\n",
       "      <th>Bid1_Volume</th>\n",
       "      <th>Ask1_Price</th>\n",
       "      <th>Ask1_Volume</th>\n",
       "      <th>Bid2_Price</th>\n",
       "      <th>Bid2_Volume</th>\n",
       "      <th>Ask2_Price</th>\n",
       "      <th>Ask2_Volume</th>\n",
       "      <th>Mid-Price</th>\n",
       "      <th>...</th>\n",
       "      <th>Trade_Volume</th>\n",
       "      <th>Price_Mean</th>\n",
       "      <th>RSI</th>\n",
       "      <th>MACD</th>\n",
       "      <th>MACD_signal</th>\n",
       "      <th>MACD_hist</th>\n",
       "      <th>KDJ_K</th>\n",
       "      <th>KDJ_D</th>\n",
       "      <th>KDJ_J</th>\n",
       "      <th>Trading Signal</th>\n",
       "    </tr>\n",
       "  </thead>\n",
       "  <tbody>\n",
       "    <tr>\n",
       "      <th>0</th>\n",
       "      <td>2025-06-02 07:30:00</td>\n",
       "      <td>111.00</td>\n",
       "      <td>2211.0</td>\n",
       "      <td>148.26</td>\n",
       "      <td>1371.0</td>\n",
       "      <td>108.47</td>\n",
       "      <td>1796.0</td>\n",
       "      <td>207.86</td>\n",
       "      <td>1403.0</td>\n",
       "      <td>129.63</td>\n",
       "      <td>...</td>\n",
       "      <td>97.0</td>\n",
       "      <td>112.61</td>\n",
       "      <td>52.83</td>\n",
       "      <td>-0.196021</td>\n",
       "      <td>-0.198977</td>\n",
       "      <td>0.002956</td>\n",
       "      <td>70.590658</td>\n",
       "      <td>68.966544</td>\n",
       "      <td>73.838884</td>\n",
       "      <td>Hold</td>\n",
       "    </tr>\n",
       "    <tr>\n",
       "      <th>1</th>\n",
       "      <td>2025-06-02 07:31:00</td>\n",
       "      <td>111.15</td>\n",
       "      <td>1845.0</td>\n",
       "      <td>159.25</td>\n",
       "      <td>1229.0</td>\n",
       "      <td>104.42</td>\n",
       "      <td>2542.0</td>\n",
       "      <td>238.43</td>\n",
       "      <td>1130.0</td>\n",
       "      <td>135.20</td>\n",
       "      <td>...</td>\n",
       "      <td>115.0</td>\n",
       "      <td>113.14</td>\n",
       "      <td>44.24</td>\n",
       "      <td>-0.495844</td>\n",
       "      <td>-0.258351</td>\n",
       "      <td>-0.237493</td>\n",
       "      <td>62.897872</td>\n",
       "      <td>66.943654</td>\n",
       "      <td>54.806310</td>\n",
       "      <td>Hold</td>\n",
       "    </tr>\n",
       "    <tr>\n",
       "      <th>2</th>\n",
       "      <td>2025-06-02 07:32:00</td>\n",
       "      <td>111.51</td>\n",
       "      <td>1581.0</td>\n",
       "      <td>161.75</td>\n",
       "      <td>1545.0</td>\n",
       "      <td>103.63</td>\n",
       "      <td>2152.0</td>\n",
       "      <td>245.34</td>\n",
       "      <td>1406.0</td>\n",
       "      <td>136.63</td>\n",
       "      <td>...</td>\n",
       "      <td>95.0</td>\n",
       "      <td>113.24</td>\n",
       "      <td>50.00</td>\n",
       "      <td>-0.677234</td>\n",
       "      <td>-0.342127</td>\n",
       "      <td>-0.335107</td>\n",
       "      <td>58.862843</td>\n",
       "      <td>64.250050</td>\n",
       "      <td>48.088428</td>\n",
       "      <td>Hold</td>\n",
       "    </tr>\n",
       "    <tr>\n",
       "      <th>3</th>\n",
       "      <td>2025-06-02 07:33:00</td>\n",
       "      <td>112.92</td>\n",
       "      <td>1399.0</td>\n",
       "      <td>188.79</td>\n",
       "      <td>1198.0</td>\n",
       "      <td>109.79</td>\n",
       "      <td>1420.0</td>\n",
       "      <td>235.82</td>\n",
       "      <td>1181.0</td>\n",
       "      <td>150.86</td>\n",
       "      <td>...</td>\n",
       "      <td>77.0</td>\n",
       "      <td>113.64</td>\n",
       "      <td>50.00</td>\n",
       "      <td>-0.412771</td>\n",
       "      <td>-0.356256</td>\n",
       "      <td>-0.056515</td>\n",
       "      <td>65.285270</td>\n",
       "      <td>64.595123</td>\n",
       "      <td>66.665564</td>\n",
       "      <td>Hold</td>\n",
       "    </tr>\n",
       "    <tr>\n",
       "      <th>4</th>\n",
       "      <td>2025-06-02 07:34:00</td>\n",
       "      <td>114.26</td>\n",
       "      <td>4271.0</td>\n",
       "      <td>154.78</td>\n",
       "      <td>2092.0</td>\n",
       "      <td>113.05</td>\n",
       "      <td>4829.0</td>\n",
       "      <td>215.01</td>\n",
       "      <td>1879.0</td>\n",
       "      <td>134.52</td>\n",
       "      <td>...</td>\n",
       "      <td>113.0</td>\n",
       "      <td>114.77</td>\n",
       "      <td>43.63</td>\n",
       "      <td>-0.420239</td>\n",
       "      <td>-0.369053</td>\n",
       "      <td>-0.051187</td>\n",
       "      <td>64.555043</td>\n",
       "      <td>64.581763</td>\n",
       "      <td>64.501602</td>\n",
       "      <td>Hold</td>\n",
       "    </tr>\n",
       "  </tbody>\n",
       "</table>\n",
       "<p>5 rows × 32 columns</p>\n",
       "</div>"
      ],
      "text/plain": [
       "       DateTime_Minute  Bid1_Price  Bid1_Volume  Ask1_Price  Ask1_Volume  \\\n",
       "0  2025-06-02 07:30:00      111.00       2211.0      148.26       1371.0   \n",
       "1  2025-06-02 07:31:00      111.15       1845.0      159.25       1229.0   \n",
       "2  2025-06-02 07:32:00      111.51       1581.0      161.75       1545.0   \n",
       "3  2025-06-02 07:33:00      112.92       1399.0      188.79       1198.0   \n",
       "4  2025-06-02 07:34:00      114.26       4271.0      154.78       2092.0   \n",
       "\n",
       "   Bid2_Price  Bid2_Volume  Ask2_Price  Ask2_Volume  Mid-Price  ...  \\\n",
       "0      108.47       1796.0      207.86       1403.0     129.63  ...   \n",
       "1      104.42       2542.0      238.43       1130.0     135.20  ...   \n",
       "2      103.63       2152.0      245.34       1406.0     136.63  ...   \n",
       "3      109.79       1420.0      235.82       1181.0     150.86  ...   \n",
       "4      113.05       4829.0      215.01       1879.0     134.52  ...   \n",
       "\n",
       "   Trade_Volume  Price_Mean    RSI      MACD  MACD_signal  MACD_hist  \\\n",
       "0          97.0      112.61  52.83 -0.196021    -0.198977   0.002956   \n",
       "1         115.0      113.14  44.24 -0.495844    -0.258351  -0.237493   \n",
       "2          95.0      113.24  50.00 -0.677234    -0.342127  -0.335107   \n",
       "3          77.0      113.64  50.00 -0.412771    -0.356256  -0.056515   \n",
       "4         113.0      114.77  43.63 -0.420239    -0.369053  -0.051187   \n",
       "\n",
       "       KDJ_K      KDJ_D      KDJ_J  Trading Signal  \n",
       "0  70.590658  68.966544  73.838884            Hold  \n",
       "1  62.897872  66.943654  54.806310            Hold  \n",
       "2  58.862843  64.250050  48.088428            Hold  \n",
       "3  65.285270  64.595123  66.665564            Hold  \n",
       "4  64.555043  64.581763  64.501602            Hold  \n",
       "\n",
       "[5 rows x 32 columns]"
      ]
     },
     "execution_count": 15,
     "metadata": {},
     "output_type": "execute_result"
    }
   ],
   "source": [
    "dfA = pd.read_csv('/June Data with Trading Signals.csv', index_col=0)\n",
    "\n",
    "dfA.head()"
   ]
  },
  {
   "cell_type": "code",
   "execution_count": 16,
   "metadata": {},
   "outputs": [],
   "source": [
    "true_A = dfA['Trading Signal']"
   ]
  },
  {
   "cell_type": "code",
   "execution_count": 17,
   "metadata": {},
   "outputs": [
    {
     "data": {
      "text/plain": [
       "(10685, 1)"
      ]
     },
     "execution_count": 17,
     "metadata": {},
     "output_type": "execute_result"
    }
   ],
   "source": [
    "true_A = true_A.iloc[20:10705]\n",
    "\n",
    "\n",
    "true_A = true_A.to_frame()\n",
    "true_A.shape"
   ]
  },
  {
   "cell_type": "code",
   "execution_count": 18,
   "metadata": {},
   "outputs": [
    {
     "data": {
      "text/plain": [
       "(10685, 1)"
      ]
     },
     "execution_count": 18,
     "metadata": {},
     "output_type": "execute_result"
    }
   ],
   "source": [
    "pre_A = pd.read_csv('/LSTM_signal_s1.csv', index_col=0)\n",
    "pre_A.shape"
   ]
  },
  {
   "cell_type": "code",
   "execution_count": 19,
   "metadata": {},
   "outputs": [
    {
     "name": "stdout",
     "output_type": "stream",
     "text": [
      "Accuracy: 0.5480580252690688\n",
      "Confusion Matrix:\n",
      " [[0.71809072 0.28190928 0.        ]\n",
      " [0.49213162 0.46883303 0.03903536]\n",
      " [0.097      0.4835     0.4195    ]]\n",
      "F1 Score (macro-average): 0.5495310065775639\n"
     ]
    },
    {
     "name": "stderr",
     "output_type": "stream",
     "text": [
      "/Users/chenyian/miniforge3/envs/mlp/lib/python3.8/site-packages/sklearn/preprocessing/_label.py:114: DataConversionWarning: A column-vector y was passed when a 1d array was expected. Please change the shape of y to (n_samples, ), for example using ravel().\n",
      "  y = column_or_1d(y, warn=True)\n",
      "/Users/chenyian/miniforge3/envs/mlp/lib/python3.8/site-packages/sklearn/preprocessing/_label.py:132: DataConversionWarning: A column-vector y was passed when a 1d array was expected. Please change the shape of y to (n_samples, ), for example using ravel().\n",
      "  y = column_or_1d(y, dtype=self.classes_.dtype, warn=True)\n"
     ]
    }
   ],
   "source": [
    "# SA\n",
    "\n",
    "from sklearn.metrics import confusion_matrix, accuracy_score\n",
    "from sklearn.preprocessing import LabelEncoder\n",
    "from sklearn.metrics import f1_score\n",
    "\n",
    "label_encoder = LabelEncoder()\n",
    "true_encoded = label_encoder.fit_transform(true_A)\n",
    "predicted_encoded = label_encoder.transform(pre_A)\n",
    "\n",
    "\n",
    "# Calculating accuracy\n",
    "accuracy = accuracy_score(true_encoded, predicted_encoded)\n",
    "print(f\"Accuracy: {accuracy}\")\n",
    "\n",
    "# Generating confusion matrix\n",
    "cm = confusion_matrix(true_encoded, predicted_encoded)\n",
    "cm_normalized = cm.astype('float') / cm.sum(axis=1)[:,np.newaxis]\n",
    "print(\"Confusion Matrix:\\n\", cm_normalized)\n",
    "\n",
    "f1_mac = f1_score(true_encoded, predicted_encoded, average='macro')\n",
    "print(f\"F1 Score (macro-average): {f1_mac}\")"
   ]
  },
  {
   "cell_type": "code",
   "execution_count": 32,
   "metadata": {},
   "outputs": [
    {
     "data": {
      "text/plain": [
       "numpy.ndarray"
      ]
     },
     "execution_count": 32,
     "metadata": {},
     "output_type": "execute_result"
    }
   ],
   "source": [
    "type(cm_normalized)"
   ]
  },
  {
   "cell_type": "markdown",
   "metadata": {},
   "source": [
    "Confusion matrix"
   ]
  },
  {
   "cell_type": "code",
   "execution_count": 28,
   "metadata": {},
   "outputs": [
    {
     "data": {
      "image/png": "[encoded data removed]",
      "text/plain": [
       "<Figure size 300x300 with 1 Axes>"
      ]
     },
     "metadata": {},
     "output_type": "display_data"
    }
   ],
   "source": [
    "sns.font_scale=0.8\n",
    "\n",
    " \n",
    "# plot\n",
    "fig, ax = plt.subplots(figsize=(3, 3))\n",
    "sns.heatmap(cm_normalized, annot=True, ax=ax, cmap=\"Blues\", fmt=\".2f\", cbar = False)\n",
    "ax.set_xlabel('LSTM Model Predicted Labels')\n",
    "ax.set_ylabel('True Labels from Trading Simulation')\n",
    "ax.set_title('LSTM Signal Accuracy for Trading Strategy A (June 2025)')\n",
    "ax.xaxis.set_ticklabels(['Sell', 'Hold', 'Buy'])\n",
    "ax.yaxis.set_ticklabels(['Sell', 'Hold', 'Buy'])\n",
    "plt.savefig('/Users/chenyian/DS_mini_project/LSTM Matrix - Test Results A.png', dpi=600, bbox_inches='tight')\n",
    "plt.show()"
   ]
  },
  {
   "cell_type": "markdown",
   "metadata": {},
   "source": [
    "Strategy B"
   ]
  },
  {
   "cell_type": "code",
   "execution_count": 21,
   "metadata": {},
   "outputs": [
    {
     "name": "stderr",
     "output_type": "stream",
     "text": [
      "/var/folders/fb/v28g5j8j16dcgjl7sfdg0zkr0000gn/T/ipykernel_5890/1808872775.py:2: DtypeWarning: Columns (1) have mixed types. Specify dtype option on import or set low_memory=False.\n",
      "  dfB = pd.read_csv('/Users/chenyian/DS_mini_project/June Data with Trading Signals + RSI.csv', index_col=0)\n"
     ]
    }
   ],
   "source": [
    "# import the strategy2 true labels\n",
    "dfB = pd.read_csv('/June Data with Trading Signals + RSI.csv', index_col=0)\n",
    "true_B = dfB['Trading Signal'].iloc[10710:]"
   ]
  },
  {
   "cell_type": "code",
   "execution_count": 22,
   "metadata": {},
   "outputs": [
    {
     "data": {
      "text/plain": [
       "(10685, 1)"
      ]
     },
     "execution_count": 22,
     "metadata": {},
     "output_type": "execute_result"
    }
   ],
   "source": [
    "true_B = true_B.to_frame()\n",
    "\n",
    "true_B.shape"
   ]
  },
  {
   "cell_type": "code",
   "execution_count": 23,
   "metadata": {},
   "outputs": [
    {
     "data": {
      "text/plain": [
       "(10685, 1)"
      ]
     },
     "execution_count": 23,
     "metadata": {},
     "output_type": "execute_result"
    }
   ],
   "source": [
    "pred_B = pd.read_csv('/LSTM_signal_s2.csv', index_col=0)\n",
    "pred_B.shape"
   ]
  },
  {
   "cell_type": "code",
   "execution_count": 24,
   "metadata": {},
   "outputs": [
    {
     "name": "stdout",
     "output_type": "stream",
     "text": [
      "AccuracyB: 0.9902667290594291\n",
      "Confusion MatrixB:\n",
      " [[0.54794521 0.45205479 0.        ]\n",
      " [0.00227273 0.99659091 0.00113636]\n",
      " [0.         0.67307692 0.32692308]]\n",
      "F1 ScoreB (macro-average): 0.666259299840298\n"
     ]
    },
    {
     "name": "stderr",
     "output_type": "stream",
     "text": [
      "/Users/chenyian/miniforge3/envs/mlp/lib/python3.8/site-packages/sklearn/preprocessing/_label.py:114: DataConversionWarning: A column-vector y was passed when a 1d array was expected. Please change the shape of y to (n_samples, ), for example using ravel().\n",
      "  y = column_or_1d(y, warn=True)\n",
      "/Users/chenyian/miniforge3/envs/mlp/lib/python3.8/site-packages/sklearn/preprocessing/_label.py:132: DataConversionWarning: A column-vector y was passed when a 1d array was expected. Please change the shape of y to (n_samples, ), for example using ravel().\n",
      "  y = column_or_1d(y, dtype=self.classes_.dtype, warn=True)\n"
     ]
    }
   ],
   "source": [
    "label_encoderB = LabelEncoder()\n",
    "true_encodedB = label_encoderB.fit_transform(true_B)\n",
    "predicted_encodedB = label_encoderB.transform(pred_B)\n",
    "\n",
    "\n",
    "# Calculating accuracy\n",
    "accuracyB = accuracy_score(true_encodedB, predicted_encodedB)\n",
    "print(f\"AccuracyB: {accuracyB}\")\n",
    "\n",
    "# Generating confusion matrix\n",
    "cmB = confusion_matrix(true_encodedB, predicted_encodedB)\n",
    "cm_normalizedB = cmB.astype('float') / cmB.sum(axis=1)[:,np.newaxis]\n",
    "print(\"Confusion MatrixB:\\n\", cm_normalizedB)\n",
    "\n",
    "f1_macB = f1_score(true_encodedB, predicted_encodedB, average='macro')\n",
    "print(f\"F1 ScoreB (macro-average): {f1_macB}\")"
   ]
  },
  {
   "cell_type": "code",
   "execution_count": 27,
   "metadata": {},
   "outputs": [
    {
     "data": {
      "image/png": "[encoded data removed]",
      "text/plain": [
       "<Figure size 300x300 with 1 Axes>"
      ]
     },
     "metadata": {},
     "output_type": "display_data"
    }
   ],
   "source": [
    "sns.font_scale=0.8\n",
    "\n",
    " \n",
    "# plot\n",
    "fig, ax = plt.subplots(figsize=(3, 3))\n",
    "sns.heatmap(cm_normalizedB, annot=True, ax=ax, cmap=\"Blues\", fmt=\".2f\", cbar = False)\n",
    "ax.set_xlabel('LSTM Model Predicted Labels')\n",
    "ax.set_ylabel('True Labels from Trading Simulation')\n",
    "ax.set_title('LSTM Signal Accuracy for Trading Strategy B (June 2025)')\n",
    "ax.xaxis.set_ticklabels(['Sell', 'Hold', 'Buy'])\n",
    "ax.yaxis.set_ticklabels(['Sell', 'Hold', 'Buy'])\n",
    "plt.savefig('/Users/chenyian/DS_mini_project/LSTM Matrix - Test Results B.png', dpi=600, bbox_inches='tight')\n",
    "plt.show()"
   ]
  }
 ],
 "metadata": {
  "kernelspec": {
   "display_name": "mlp",
   "language": "python",
   "name": "python3"
  },
  "language_info": {
   "codemirror_mode": {
    "name": "ipython",
    "version": 3
   },
   "file_extension": ".py",
   "mimetype": "text/x-python",
   "name": "python",
   "nbconvert_exporter": "python",
   "pygments_lexer": "ipython3",
   "version": "3.8.18"
  }
 },
 "nbformat": 4,
 "nbformat_minor": 2
}
